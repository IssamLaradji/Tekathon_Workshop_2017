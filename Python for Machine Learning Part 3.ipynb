{
 "cells": [
  {
   "cell_type": "markdown",
   "metadata": {},
   "source": [
    "### This workshop is divided into 4 main parts:\n",
    "* Python for Data Science basics\n",
    "* Natural Language Processing and Sentiment Analysis \n",
    "* Web Scraping with Sentiment Analysis \n",
    "* Website and Chat bot integration\n",
    "    \n",
    "### Goals for part 3:\n",
    "* Build a function that scrapes Amazon products from keywords\n",
    "* Build a function that scrapes Tweets from Twitter\n",
    "* Build a function that identifies the rate of positive/negative tweets for a certain topic\n",
    "* Display the tweet coordinates on a world map\n",
    "\n",
    "### Introduction\n",
    "\n",
    "* What is web scraping ?\n",
    "\n",
    "![](images/web_scrap.jpg)"
   ]
  },
  {
   "cell_type": "markdown",
   "metadata": {},
   "source": [
    "#### RUN THE AMAZON SCRAPER TO GET PRODUCTS\n",
    "\n",
    "* In terminal run this command:\n",
    "\n",
    "  `python scrape_amazon.py -k xbox`\n"
   ]
  },
  {
   "cell_type": "code",
   "execution_count": 12,
   "metadata": {
    "collapsed": true
   },
   "outputs": [],
   "source": [
    "# IMPORT REQUIRED LIBRARIES\n",
    "import json\n",
    "import pandas as pd\n",
    "import requests\n",
    "from lxml import html\n",
    "import numpy as np\n",
    "import utils as ut \n",
    "\n",
    "headers = {'User-Agent': 'Mozilla/5.0 (X11; Linux x86_64) AppleWebKit/537.36 '\n",
    "           '(KHTML, like Gecko) Chrome/42.0.2311.90 Safari/537.36'}"
   ]
  },
  {
   "cell_type": "code",
   "execution_count": 6,
   "metadata": {
    "collapsed": false
   },
   "outputs": [],
   "source": [
    "# GO TO AN AMAZON WEBSITE AND GET HTML\n",
    "amazon_url  = 'https://www.amazon.ca/gp/product/1593275994'\n",
    "page = requests.get(amazon_url, headers = headers).text\n",
    "parser = html.fromstring(page)"
   ]
  },
  {
   "cell_type": "code",
   "execution_count": 7,
   "metadata": {
    "collapsed": false
   },
   "outputs": [
    {
     "name": "stdout",
     "output_type": "stream",
     "text": [
      "['Automate the Boring Stuff with Python: Practical Programming for Total Beginners']\n"
     ]
    }
   ],
   "source": [
    "# GET DESIRED TEXT FROM HTML\n",
    "xpath_review = '//h1//span[@id=\"productTitle\"]//text()'\n",
    "reviews = parser.xpath(xpath_review)\n",
    "print(reviews)"
   ]
  },
  {
   "cell_type": "code",
   "execution_count": 8,
   "metadata": {
    "collapsed": false
   },
   "outputs": [
    {
     "name": "stdout",
     "output_type": "stream",
     "text": [
      "['13 customer reviews']\n"
     ]
    }
   ],
   "source": [
    "# GET REVIEWS"
   ]
  },
  {
   "cell_type": "code",
   "execution_count": 9,
   "metadata": {
    "collapsed": false
   },
   "outputs": [
    {
     "data": {
      "text/html": [
       "<div>\n",
       "<table border=\"1\" class=\"dataframe\">\n",
       "  <thead>\n",
       "    <tr style=\"text-align: right;\">\n",
       "      <th></th>\n",
       "      <th>avg rating</th>\n",
       "      <th>n_reviews</th>\n",
       "      <th>name</th>\n",
       "      <th>price</th>\n",
       "      <th>url</th>\n",
       "    </tr>\n",
       "  </thead>\n",
       "  <tbody>\n",
       "    <tr>\n",
       "      <th>0</th>\n",
       "      <td>4.38</td>\n",
       "      <td>161</td>\n",
       "      <td>XIBERIA 3.5mm Surround Sound Gaming Headset No...</td>\n",
       "      <td>0.00</td>\n",
       "      <td>http://www.amazon.com/dp/B01MG03BNT</td>\n",
       "    </tr>\n",
       "    <tr>\n",
       "      <th>1</th>\n",
       "      <td>3.84</td>\n",
       "      <td>61</td>\n",
       "      <td>Microsoft Xbox One 1TB Console</td>\n",
       "      <td>284.89</td>\n",
       "      <td>http://www.amazon.com/dp/B00KL3WBBC</td>\n",
       "    </tr>\n",
       "    <tr>\n",
       "      <th>2</th>\n",
       "      <td>4.19</td>\n",
       "      <td>543</td>\n",
       "      <td>Xbox One S 500GB Console - Minecraft Bundle</td>\n",
       "      <td>209.00</td>\n",
       "      <td>http://www.amazon.com/dp/B01L1Y0RZQ</td>\n",
       "    </tr>\n",
       "    <tr>\n",
       "      <th>3</th>\n",
       "      <td>4.45</td>\n",
       "      <td>7196</td>\n",
       "      <td>Xbox $10 Gift Card - Digital Code</td>\n",
       "      <td>10.00</td>\n",
       "      <td>http://www.amazon.com/dp/B00F4CEHNK</td>\n",
       "    </tr>\n",
       "    <tr>\n",
       "      <th>4</th>\n",
       "      <td>4.31</td>\n",
       "      <td>398</td>\n",
       "      <td>Xbox 360 4GB System Console with Peggle 2 Bundle</td>\n",
       "      <td>164.00</td>\n",
       "      <td>http://www.amazon.com/dp/B00OEA4ADU</td>\n",
       "    </tr>\n",
       "  </tbody>\n",
       "</table>\n",
       "</div>"
      ],
      "text/plain": [
       "   avg rating  n_reviews                                               name  \\\n",
       "0        4.38        161  XIBERIA 3.5mm Surround Sound Gaming Headset No...   \n",
       "1        3.84         61                     Microsoft Xbox One 1TB Console   \n",
       "2        4.19        543        Xbox One S 500GB Console - Minecraft Bundle   \n",
       "3        4.45       7196                  Xbox $10 Gift Card - Digital Code   \n",
       "4        4.31        398   Xbox 360 4GB System Console with Peggle 2 Bundle   \n",
       "\n",
       "    price                                  url  \n",
       "0    0.00  http://www.amazon.com/dp/B01MG03BNT  \n",
       "1  284.89  http://www.amazon.com/dp/B00KL3WBBC  \n",
       "2  209.00  http://www.amazon.com/dp/B01L1Y0RZQ  \n",
       "3   10.00  http://www.amazon.com/dp/B00F4CEHNK  \n",
       "4  164.00  http://www.amazon.com/dp/B00OEA4ADU  "
      ]
     },
     "execution_count": 9,
     "metadata": {},
     "output_type": "execute_result"
    }
   ],
   "source": [
    "# GET GENERATED FILE\n",
    "with open('datasets/amazon_xbox.json') as json_data:\n",
    "     adata = json.load(json_data)\n",
    "\n",
    "adata = pd.DataFrame(adata)\n",
    "adata.head()\n",
    "\n",
    "# SORT PRICES AND RATING"
   ]
  },
  {
   "cell_type": "code",
   "execution_count": null,
   "metadata": {
    "collapsed": true
   },
   "outputs": [],
   "source": [
    "# DO THE SAME FOR PS4\n"
   ]
  },
  {
   "cell_type": "markdown",
   "metadata": {},
   "source": [
    "#### SCRAPE TWITTER\n",
    "![](images/twitters.jpg)\n",
    "\n",
    "![](images/stuff.jpg)\n",
    "\n",
    "* Get public opinion and sentiments on a topic\n",
    "* Get trending food/fashion products\n",
    "* Win prizes by automatically joining twitter contests [link](http://gizmodo.com/i-wrote-a-bot-that-won-twitter-contests-1722126436)"
   ]
  },
  {
   "cell_type": "markdown",
   "metadata": {},
   "source": [
    "#### SCRAPE TWITTER\n",
    "\n",
    "##### FOLLOW STEPS [HERE]( https://marcobonzanini.com/2015/03/02/mining-twitter-data-with-python-part-1/) TO REGISTER TWITTER KEY:\n",
    "\n",
    "#### ADD KEYS IN AND RUN THE COMMAND:\n",
    "\n",
    "`python scrape_twitter.py`\n"
   ]
  },
  {
   "cell_type": "code",
   "execution_count": 2,
   "metadata": {
    "collapsed": false
   },
   "outputs": [
    {
     "ename": "NameError",
     "evalue": "name 'json' is not defined",
     "output_type": "error",
     "traceback": [
      "\u001b[1;31m---------------------------------------------------------------------------\u001b[0m",
      "\u001b[1;31mNameError\u001b[0m                                 Traceback (most recent call last)",
      "\u001b[1;32m<ipython-input-2-cea25cd0d107>\u001b[0m in \u001b[0;36m<module>\u001b[1;34m()\u001b[0m\n\u001b[0;32m      1\u001b[0m \u001b[1;31m# PARSE TWITTER REVIEWS\u001b[0m\u001b[1;33m\u001b[0m\u001b[1;33m\u001b[0m\u001b[0m\n\u001b[0;32m      2\u001b[0m \u001b[1;32mwith\u001b[0m \u001b[0mopen\u001b[0m\u001b[1;33m(\u001b[0m\u001b[1;34m'datasets/stream_starbucks_demo.json'\u001b[0m\u001b[1;33m)\u001b[0m \u001b[1;32mas\u001b[0m \u001b[0mjson_data\u001b[0m\u001b[1;33m:\u001b[0m\u001b[1;33m\u001b[0m\u001b[0m\n\u001b[1;32m----> 3\u001b[1;33m      \u001b[0md\u001b[0m \u001b[1;33m=\u001b[0m \u001b[0mjson\u001b[0m\u001b[1;33m.\u001b[0m\u001b[0mload\u001b[0m\u001b[1;33m(\u001b[0m\u001b[0mjson_data\u001b[0m\u001b[1;33m)\u001b[0m\u001b[1;33m\u001b[0m\u001b[0m\n\u001b[0m\u001b[0;32m      4\u001b[0m \u001b[1;33m\u001b[0m\u001b[0m\n\u001b[0;32m      5\u001b[0m \u001b[0mdd\u001b[0m \u001b[1;33m=\u001b[0m \u001b[0mpd\u001b[0m\u001b[1;33m.\u001b[0m\u001b[0mDataFrame\u001b[0m\u001b[1;33m(\u001b[0m\u001b[0md\u001b[0m\u001b[1;33m)\u001b[0m\u001b[1;33m\u001b[0m\u001b[0m\n",
      "\u001b[1;31mNameError\u001b[0m: name 'json' is not defined"
     ]
    }
   ],
   "source": [
    "# PARSE TWITTER REVIEWS\n",
    "with open('datasets/stream_starbucks_demo.json') as json_data:\n",
    "     d = json.load(json_data)\n",
    "\n",
    "dd = pd.DataFrame(d)    \n",
    "text_list = np.array(dd[\"text\"])\n",
    "\n",
    "sent_dict = {\"positive\": 0, \"neutral\": 0, \"negative\": 0}\n",
    "sent_lists = {\"positive\": [], \"neutral\": [], \"negative\": []}\n",
    "for text in text_list:\n",
    "    sentiment = ut.get_sentiment(text)\n",
    "    sent_dict[sentiment] += 1\n",
    "    sent_lists[sentiment] += [text]\n",
    "    print \"text: %s - sentiment: %s \" % (text, sentiment)\n",
    "    \n",
    "sent_lists[\"positive\"]\n",
    "sent_dict"
   ]
  },
  {
   "cell_type": "code",
   "execution_count": 20,
   "metadata": {
    "collapsed": false
   },
   "outputs": [
    {
     "data": {
      "text/html": [
       "<div>\n",
       "<table border=\"1\" class=\"dataframe\">\n",
       "  <thead>\n",
       "    <tr style=\"text-align: right;\">\n",
       "      <th></th>\n",
       "      <th>lat</th>\n",
       "      <th>lon</th>\n",
       "    </tr>\n",
       "  </thead>\n",
       "  <tbody>\n",
       "    <tr>\n",
       "      <th>0</th>\n",
       "      <td>-2.184229</td>\n",
       "      <td>52.038061</td>\n",
       "    </tr>\n",
       "    <tr>\n",
       "      <th>1</th>\n",
       "      <td>-10.427177</td>\n",
       "      <td>52.160523</td>\n",
       "    </tr>\n",
       "    <tr>\n",
       "      <th>2</th>\n",
       "      <td>-6.234815</td>\n",
       "      <td>53.367134</td>\n",
       "    </tr>\n",
       "    <tr>\n",
       "      <th>3</th>\n",
       "      <td>-1.297611</td>\n",
       "      <td>52.314245</td>\n",
       "    </tr>\n",
       "    <tr>\n",
       "      <th>4</th>\n",
       "      <td>-8.204491</td>\n",
       "      <td>52.294470</td>\n",
       "    </tr>\n",
       "  </tbody>\n",
       "</table>\n",
       "</div>"
      ],
      "text/plain": [
       "         lat        lon\n",
       "0  -2.184229  52.038061\n",
       "1 -10.427177  52.160523\n",
       "2  -6.234815  53.367134\n",
       "3  -1.297611  52.314245\n",
       "4  -8.204491  52.294470"
      ]
     },
     "execution_count": 20,
     "metadata": {},
     "output_type": "execute_result"
    }
   ],
   "source": [
    "# GET TWEETS COORDINATES\n",
    "with open('datasets/geo_data.json') as json_data:\n",
    "     d = json.load(json_data)\n",
    "\n",
    "coors = []\n",
    "for tweet in d[\"features\"]:\n",
    "    coors += [{\"lat\":tweet[\"geometry\"][\"coordinates\"][0],\n",
    "               \"lon\": tweet[\"geometry\"][\"coordinates\"][1]}]\n",
    "    \n",
    "pd.DataFrame(coors).head()"
   ]
  },
  {
   "cell_type": "markdown",
   "metadata": {},
   "source": [
    "#### [link](https://marcobonzanini.com/2015/06/16/mining-twitter-data-with-python-and-js-part-7-geolocation-and-interactive-maps/) on how to plot tweet locations on maps\n",
    "\n",
    "![](images/map.png)"
   ]
  },
  {
   "cell_type": "code",
   "execution_count": null,
   "metadata": {
    "collapsed": true
   },
   "outputs": [],
   "source": []
  }
 ],
 "metadata": {
  "kernelspec": {
   "display_name": "Python 2",
   "language": "python",
   "name": "python2"
  },
  "language_info": {
   "codemirror_mode": {
    "name": "ipython",
    "version": 2
   },
   "file_extension": ".py",
   "mimetype": "text/x-python",
   "name": "python",
   "nbconvert_exporter": "python",
   "pygments_lexer": "ipython2",
   "version": "2.7.11"
  }
 },
 "nbformat": 4,
 "nbformat_minor": 0
}
