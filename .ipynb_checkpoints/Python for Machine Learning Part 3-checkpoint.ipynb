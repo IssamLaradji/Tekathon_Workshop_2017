{
 "cells": [
  {
   "cell_type": "markdown",
   "metadata": {},
   "source": [
    "### This workshop is divided into 4 main parts:\n",
    "* Python for Data Science basics\n",
    "* Natural Language Processing and Sentiment Analysis \n",
    "* Web Scraping with Sentiment Analysis \n",
    "* Website and Chat bot integration\n",
    "    \n",
    "### Goals for part 3:\n",
    "* Build a function that scrapes Amazon products from keywords\n",
    "* Build a function that scrapes Tweets from Twitter\n",
    "* Build a function that identifies the rate of positive/negative tweets for a certain topic\n",
    "* Display the tweet coordinates on a world map\n",
    "\n",
    "### Introduction\n",
    "\n",
    "* What is web scraping ?\n",
    "\n",
    "![](images/web_scrap.jpg)"
   ]
  },
  {
   "cell_type": "markdown",
   "metadata": {},
   "source": [
    "#### RUN THE AMAZON SCRAPER TO GET PRODUCTS\n",
    "\n",
    "* In terminal run this command:\n",
    "\n",
    "  `python scrape_amazon.py -k xbox`\n"
   ]
  },
  {
   "cell_type": "code",
   "execution_count": 12,
   "metadata": {
    "collapsed": true
   },
   "outputs": [],
   "source": [
    "# IMPORT REQUIRED LIBRARIES\n",
    "import json\n",
    "import pandas as pd\n",
    "import requests\n",
    "from lxml import html\n",
    "import numpy as np\n",
    "import utils as ut \n",
    "\n",
    "headers = {'User-Agent': 'Mozilla/5.0 (X11; Linux x86_64) AppleWebKit/537.36 '\n",
    "           '(KHTML, like Gecko) Chrome/42.0.2311.90 Safari/537.36'}"
   ]
  },
  {
   "cell_type": "code",
   "execution_count": 6,
   "metadata": {
    "collapsed": false
   },
   "outputs": [],
   "source": [
    "# GO TO AN AMAZON WEBSITE AND GET HTML\n",
    "amazon_url  = 'https://www.amazon.ca/gp/product/1593275994'\n",
    "page = requests.get(amazon_url, headers = headers).text\n",
    "parser = html.fromstring(page)"
   ]
  },
  {
   "cell_type": "code",
   "execution_count": 7,
   "metadata": {
    "collapsed": false
   },
   "outputs": [
    {
     "name": "stdout",
     "output_type": "stream",
     "text": [
      "['Automate the Boring Stuff with Python: Practical Programming for Total Beginners']\n"
     ]
    }
   ],
   "source": [
    "# GET DESIRED TEXT FROM HTML\n",
    "xpath_review = '//h1//span[@id=\"productTitle\"]//text()'\n",
    "reviews = parser.xpath(xpath_review)\n",
    "print(reviews)"
   ]
  },
  {
   "cell_type": "code",
   "execution_count": 8,
   "metadata": {
    "collapsed": false
   },
   "outputs": [
    {
     "name": "stdout",
     "output_type": "stream",
     "text": [
      "['13 customer reviews']\n"
     ]
    }
   ],
   "source": [
    "# GET REVIEWS"
   ]
  },
  {
   "cell_type": "code",
   "execution_count": 9,
   "metadata": {
    "collapsed": false
   },
   "outputs": [
    {
     "data": {
      "text/html": [
       "<div>\n",
       "<table border=\"1\" class=\"dataframe\">\n",
       "  <thead>\n",
       "    <tr style=\"text-align: right;\">\n",
       "      <th></th>\n",
       "      <th>avg rating</th>\n",
       "      <th>n_reviews</th>\n",
       "      <th>name</th>\n",
       "      <th>price</th>\n",
       "      <th>url</th>\n",
       "    </tr>\n",
       "  </thead>\n",
       "  <tbody>\n",
       "    <tr>\n",
       "      <th>0</th>\n",
       "      <td>4.38</td>\n",
       "      <td>161</td>\n",
       "      <td>XIBERIA 3.5mm Surround Sound Gaming Headset No...</td>\n",
       "      <td>0.00</td>\n",
       "      <td>http://www.amazon.com/dp/B01MG03BNT</td>\n",
       "    </tr>\n",
       "    <tr>\n",
       "      <th>1</th>\n",
       "      <td>3.84</td>\n",
       "      <td>61</td>\n",
       "      <td>Microsoft Xbox One 1TB Console</td>\n",
       "      <td>284.89</td>\n",
       "      <td>http://www.amazon.com/dp/B00KL3WBBC</td>\n",
       "    </tr>\n",
       "    <tr>\n",
       "      <th>2</th>\n",
       "      <td>4.19</td>\n",
       "      <td>543</td>\n",
       "      <td>Xbox One S 500GB Console - Minecraft Bundle</td>\n",
       "      <td>209.00</td>\n",
       "      <td>http://www.amazon.com/dp/B01L1Y0RZQ</td>\n",
       "    </tr>\n",
       "    <tr>\n",
       "      <th>3</th>\n",
       "      <td>4.45</td>\n",
       "      <td>7196</td>\n",
       "      <td>Xbox $10 Gift Card - Digital Code</td>\n",
       "      <td>10.00</td>\n",
       "      <td>http://www.amazon.com/dp/B00F4CEHNK</td>\n",
       "    </tr>\n",
       "    <tr>\n",
       "      <th>4</th>\n",
       "      <td>4.31</td>\n",
       "      <td>398</td>\n",
       "      <td>Xbox 360 4GB System Console with Peggle 2 Bundle</td>\n",
       "      <td>164.00</td>\n",
       "      <td>http://www.amazon.com/dp/B00OEA4ADU</td>\n",
       "    </tr>\n",
       "  </tbody>\n",
       "</table>\n",
       "</div>"
      ],
      "text/plain": [
       "   avg rating  n_reviews                                               name  \\\n",
       "0        4.38        161  XIBERIA 3.5mm Surround Sound Gaming Headset No...   \n",
       "1        3.84         61                     Microsoft Xbox One 1TB Console   \n",
       "2        4.19        543        Xbox One S 500GB Console - Minecraft Bundle   \n",
       "3        4.45       7196                  Xbox $10 Gift Card - Digital Code   \n",
       "4        4.31        398   Xbox 360 4GB System Console with Peggle 2 Bundle   \n",
       "\n",
       "    price                                  url  \n",
       "0    0.00  http://www.amazon.com/dp/B01MG03BNT  \n",
       "1  284.89  http://www.amazon.com/dp/B00KL3WBBC  \n",
       "2  209.00  http://www.amazon.com/dp/B01L1Y0RZQ  \n",
       "3   10.00  http://www.amazon.com/dp/B00F4CEHNK  \n",
       "4  164.00  http://www.amazon.com/dp/B00OEA4ADU  "
      ]
     },
     "execution_count": 9,
     "metadata": {},
     "output_type": "execute_result"
    }
   ],
   "source": [
    "# GET GENERATED FILE\n",
    "with open('datasets/amazon_xbox.json') as json_data:\n",
    "     adata = json.load(json_data)\n",
    "\n",
    "adata = pd.DataFrame(adata)\n",
    "adata.head()\n",
    "\n",
    "# SORT PRICES AND RATING"
   ]
  },
  {
   "cell_type": "code",
   "execution_count": null,
   "metadata": {
    "collapsed": true
   },
   "outputs": [],
   "source": [
    "# DO THE SAME FOR PS4\n"
   ]
  },
  {
   "cell_type": "code",
   "execution_count": 13,
   "metadata": {
    "collapsed": false
   },
   "outputs": [
    {
     "name": "stdout",
     "output_type": "stream",
     "text": [
      "text: RT @bourgeoisalien: Republican Values 2017:\n",
      "Feed the poor to bears\n",
      "Body slamming reporters\n",
      "Treason is kewl\n",
      "Boycott seasonal Starbucks cups… - sentiment: negative \n",
      "text: RT @aRandomFriend: Have you ever overheard a strangers starbucks order and been really concerned about their day-to-day - sentiment: positive \n",
      "text: RT @ACTIVITlESFR: été au starbucks - sentiment: neutral \n",
      "text: Western \"Liberals\" (Starbucks Marxists) Don't and Won't Understand Hard-line Islam https://t.co/mukX6sPk0L - sentiment: neutral \n",
      "text: RT @Hozay__: When the Starbucks line is taking too long https://t.co/nn8m1zMqDi - sentiment: negative \n",
      "text: Jamba Juice or Starbucks 🤔 - sentiment: neutral \n",
      "text: RT @vshimoyama: We ❤️ our new Starbucks! Thanks @Starbucks for local partnership &amp; local love for @LongBeachCity @PacGateway…  - sentiment: positive \n",
      "text: RT @Hozay__: When the Starbucks line is taking too long https://t.co/nn8m1zMqDi - sentiment: negative \n",
      "text: RT @JohnLyonTweets: The Ambien label doesn't say what they mean by heavy machinery. Does the running chainsaw I apparently carried into thi… - sentiment: negative \n",
      "text: RT @PontiacMadeDDG: Yo daddy work at Starbucks https://t.co/hW6aZHaEt0 - sentiment: neutral \n",
      "text: Picture doesn't do its justice. #heaven #chipoleismylife #starbucks… https://t.co/gzifdmygCH - sentiment: neutral \n",
      "text: RT @Hozay__: When the Starbucks line is taking too long https://t.co/nn8m1zMqDi - sentiment: negative \n",
      "text: @GOP HOPE NOT STARBUCKS EMPLOY REFUGEES OVER VETS! ENOUGH RHETORIC! OUST RYAN/BACK POTUS/AGENDA B4 POWER LOSS IN 20… https://t.co/HNu5l18DiK - sentiment: neutral \n",
      "text: Le Starbucks de @AtlantisNantes 👌 - sentiment: neutral \n",
      "text: RT @4everNeverTrump: Conservatives have been offended by:\n",
      "~Colbert\n",
      "~Chobani\n",
      "~Coca-Cola\n",
      "~a Broadway show\n",
      "~Starbucks\n",
      "~Budweiser\n",
      "Yet liberals… - sentiment: neutral \n",
      "text: RT @WhyAisha: How people look at each other in Starbucks https://t.co/fZlkoGJb6F - sentiment: negative \n",
      "text: RT @Hozay__: When the Starbucks line is taking too long https://t.co/nn8m1zMqDi - sentiment: negative \n",
      "text: @kelseyheston ordering Starbucks!!!! - sentiment: neutral \n"
     ]
    }
   ],
   "source": [
    "# PARSE TWITTER REVIEWS\n",
    "with open('datasets/stream_starbucks_demo.json') as json_data:\n",
    "     d = json.load(json_data)\n",
    "\n",
    "dd = pd.DataFrame(d)    \n",
    "text_list = np.array(dd[\"text\"])\n",
    "\n",
    "sent_dict = {\"positive\": 0, \"neutral\": 0, \"negative\": 0}\n",
    "sent_lists = {\"positive\": [], \"neutral\": [], \"negative\": []}\n",
    "for text in text_list:\n",
    "    sentiment = ut.get_sentiment(text)\n",
    "    sent_dict[sentiment] += 1\n",
    "    sent_lists[sentiment] += [text]\n",
    "    print \"text: %s - sentiment: %s \" % (text, sentiment)"
   ]
  },
  {
   "cell_type": "code",
   "execution_count": 15,
   "metadata": {
    "collapsed": false
   },
   "outputs": [
    {
     "data": {
      "text/plain": [
       "{'negative': 7, 'neutral': 9, 'positive': 2}"
      ]
     },
     "execution_count": 15,
     "metadata": {},
     "output_type": "execute_result"
    }
   ],
   "source": [
    "sent_lists[\"positive\"]\n",
    "sent_dict"
   ]
  },
  {
   "cell_type": "code",
   "execution_count": null,
   "metadata": {
    "collapsed": true
   },
   "outputs": [],
   "source": []
  },
  {
   "cell_type": "code",
   "execution_count": null,
   "metadata": {
    "collapsed": true
   },
   "outputs": [],
   "source": []
  },
  {
   "cell_type": "code",
   "execution_count": 19,
   "metadata": {
    "collapsed": false
   },
   "outputs": [
    {
     "name": "stdout",
     "output_type": "stream",
     "text": [
      "         lat        lon\n",
      "0  30.538049  36.508945\n",
      "1 -73.969673  40.672526\n"
     ]
    }
   ],
   "source": [
    "# GET TWEETS COORDINATES\n",
    "with open('datasets/geoData.json') as json_data:\n",
    "     d = json.load(json_data)\n",
    "\n",
    "coors = []\n",
    "for tweet in d[\"features\"]:\n",
    "    coors += [{\"lat\":tweet[\"geometry\"][\"coordinates\"][0],\n",
    "               \"lon\": tweet[\"geometry\"][\"coordinates\"][1]}]\n",
    "    \n",
    "print pd.DataFrame(coors)"
   ]
  }
 ],
 "metadata": {
  "kernelspec": {
   "display_name": "Python 2",
   "language": "python",
   "name": "python2"
  },
  "language_info": {
   "codemirror_mode": {
    "name": "ipython",
    "version": 2
   },
   "file_extension": ".py",
   "mimetype": "text/x-python",
   "name": "python",
   "nbconvert_exporter": "python",
   "pygments_lexer": "ipython2",
   "version": "2.7.11"
  }
 },
 "nbformat": 4,
 "nbformat_minor": 0
}
