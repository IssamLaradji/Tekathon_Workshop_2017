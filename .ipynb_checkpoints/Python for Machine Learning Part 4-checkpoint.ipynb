{
 "cells": [
  {
   "cell_type": "markdown",
   "metadata": {},
   "source": [
    "### This workshop is divided into 4 main parts:\n",
    "* Python for Data Science basics\n",
    "* Natural Language Processing and Sentiment Analysis \n",
    "* Web Scraping with Sentiment Analysis \n",
    "* Website and Chat bot integration\n",
    "    \n",
    "### Goals for part 4:\n",
    "* Start a website that has a chatbot interface\n",
    "* Integrate Functions with a chatbot\n",
    "\n",
    "### Introduction\n",
    "\n",
    "\n",
    "![](images/chatbot2.png)\n",
    "![](images/chatbot1.png)\n"
   ]
  },
  {
   "cell_type": "code",
   "execution_count": null,
   "metadata": {
    "collapsed": true
   },
   "outputs": [],
   "source": []
  }
 ],
 "metadata": {
  "kernelspec": {
   "display_name": "Python 2",
   "language": "python",
   "name": "python2"
  },
  "language_info": {
   "codemirror_mode": {
    "name": "ipython",
    "version": 2
   },
   "file_extension": ".py",
   "mimetype": "text/x-python",
   "name": "python",
   "nbconvert_exporter": "python",
   "pygments_lexer": "ipython2",
   "version": "2.7.11"
  }
 },
 "nbformat": 4,
 "nbformat_minor": 0
}
