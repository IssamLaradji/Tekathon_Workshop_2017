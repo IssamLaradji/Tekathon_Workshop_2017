{
 "cells": [
  {
   "cell_type": "markdown",
   "metadata": {},
   "source": [
    "### This workshop is divided into 4 main parts:\n",
    "* Python for Data Science basics\n",
    "* Natural Language Processing and Sentiment Analysis \n",
    "* Web Scraping with Sentiment Analysis \n",
    "* Website and Chat bot integration\n",
    "    \n",
    "### Goals for part 2:\n",
    "* Build a function that computes the sentiment of a sentence\n",
    "* Build an amazon rating prediction model\n",
    "\n",
    "### Introduction\n",
    "\n",
    "* What is sentiment analysis ?\n",
    "\n",
    "![](images/Sentiment.jpg)\n",
    "![](images/sentiment2.png)"
   ]
  },
  {
   "cell_type": "code",
   "execution_count": 18,
   "metadata": {
    "collapsed": true
   },
   "outputs": [],
   "source": [
    "# IMPORT ALL NEEDED LIBRARIES\n",
    "import utils as ut\n",
    "from textblob import TextBlob\n",
    "import pandas as pd\n",
    "from sklearn.feature_extraction.text import CountVectorizer\n",
    "from sklearn.naive_bayes import MultinomialNB"
   ]
  },
  {
   "cell_type": "code",
   "execution_count": 12,
   "metadata": {
    "collapsed": false
   },
   "outputs": [
    {
     "name": "stdout",
     "output_type": "stream",
     "text": [
      "Polarity: 0.50\n",
      "sentiment: positive\n"
     ]
    }
   ],
   "source": [
    "sentence1 = 'I love this car'\n",
    "sentence2 = 'I hate this car'\n",
    "\n",
    "analysis = TextBlob(sentence1)\n",
    "\n",
    "# Measure the polarity\n",
    "print(\"Polarity: %.2f\" % analysis.sentiment.polarity)\n",
    "\n",
    "# TO CHECK IF IT IS POSITIVE OR NEGATIVE SENTIMENT\n",
    "if analysis.sentiment.polarity > 0.:\n",
    "    print(\"sentiment: positive\")\n",
    "else:\n",
    "    print(\"sentiment: negative\")"
   ]
  },
  {
   "cell_type": "code",
   "execution_count": null,
   "metadata": {
    "collapsed": true
   },
   "outputs": [],
   "source": [
    "# TRY OTHER STATEMENTS\n"
   ]
  },
  {
   "cell_type": "code",
   "execution_count": 17,
   "metadata": {
    "collapsed": false
   },
   "outputs": [
    {
     "name": "stdout",
     "output_type": "stream",
     "text": [
      "sentence: I love this car\n",
      "sentiment: YOUR CODE HERE\n",
      "\n",
      "sentence: This view is amazing\n",
      "sentiment: YOUR CODE HERE\n",
      "\n",
      "sentence: I feel great this morning\n",
      "sentiment: YOUR CODE HERE\n",
      "\n",
      "sentence: I am so excited about the concert\n",
      "sentiment: YOUR CODE HERE\n",
      "\n",
      "sentence: He is my best friend\n",
      "sentiment: YOUR CODE HERE\n",
      "\n",
      "sentence: I do not like this car\n",
      "sentiment: YOUR CODE HERE\n",
      "\n",
      "sentence: This view is horrible\n",
      "sentiment: YOUR CODE HERE\n",
      "\n",
      "sentence: I feel tired this morning\n",
      "sentiment: YOUR CODE HERE\n",
      "\n",
      "sentence: I am not looking forward to the concert\n",
      "sentiment: YOUR CODE HERE\n",
      "\n",
      "sentence: He is my enemy\n",
      "sentiment: YOUR CODE HERE\n",
      "\n"
     ]
    }
   ],
   "source": [
    "# POSITIVE STATEMENTS\n",
    "pos_tweets = [('I love this car', 'positive'),\n",
    "              ('This view is amazing', 'positive'),\n",
    "              ('I feel great this morning', 'positive'),\n",
    "              ('I am so excited about the concert', 'positive'),\n",
    "              ('He is my best friend', 'positive')]\n",
    "# NEGATIVE STATEMENTS\n",
    "neg_tweets = [('I do not like this car', 'negative'),\n",
    "              ('This view is horrible', 'negative'),\n",
    "              ('I feel tired this morning', 'negative'),\n",
    "              ('I am not looking forward to the concert', 'negative'),\n",
    "              ('He is my enemy', 'negative')]\n",
    "\n",
    "# PREDICT SENTIMENTS USING TEXT BLOB\n",
    "for tweet in pos_tweets:\n",
    "    print \"sentence: %s\\nsentiment: %s\\n\" % (tweet[0], \"YOUR CODE HERE\")\n",
    "for tweet in neg_tweets:\n",
    "    print \"sentence: %s\\nsentiment: %s\\n\" % (tweet[0],\"YOUR CODE HERE\")"
   ]
  },
  {
   "cell_type": "markdown",
   "metadata": {},
   "source": [
    "#### HOW DOES THE ALGORITHM KNOW THAT A SENTENCE IS POSITIVE OR NEGATIVE  ?\n",
    "\n",
    "* One way is bag of words feature extraction\n",
    "\n",
    "![](images/bow.png)"
   ]
  },
  {
   "cell_type": "code",
   "execution_count": 26,
   "metadata": {
    "collapsed": false
   },
   "outputs": [
    {
     "name": "stdout",
     "output_type": "stream",
     "text": [
      "[[0 1 0 1 0 1 1 0]\n",
      " [1 1 1 0 0 1 1 0]\n",
      " [0 0 0 1 1 0 1 1]]\n"
     ]
    },
    {
     "data": {
      "text/html": [
       "<div>\n",
       "<table border=\"1\" class=\"dataframe\">\n",
       "  <thead>\n",
       "    <tr style=\"text-align: right;\">\n",
       "      <th></th>\n",
       "      <th>dont</th>\n",
       "      <th>feel</th>\n",
       "      <th>good</th>\n",
       "      <th>great</th>\n",
       "      <th>is</th>\n",
       "      <th>morning</th>\n",
       "      <th>this</th>\n",
       "      <th>view</th>\n",
       "    </tr>\n",
       "  </thead>\n",
       "  <tbody>\n",
       "    <tr>\n",
       "      <th>0</th>\n",
       "      <td>0</td>\n",
       "      <td>1</td>\n",
       "      <td>0</td>\n",
       "      <td>1</td>\n",
       "      <td>0</td>\n",
       "      <td>1</td>\n",
       "      <td>1</td>\n",
       "      <td>0</td>\n",
       "    </tr>\n",
       "    <tr>\n",
       "      <th>1</th>\n",
       "      <td>1</td>\n",
       "      <td>1</td>\n",
       "      <td>1</td>\n",
       "      <td>0</td>\n",
       "      <td>0</td>\n",
       "      <td>1</td>\n",
       "      <td>1</td>\n",
       "      <td>0</td>\n",
       "    </tr>\n",
       "    <tr>\n",
       "      <th>2</th>\n",
       "      <td>0</td>\n",
       "      <td>0</td>\n",
       "      <td>0</td>\n",
       "      <td>1</td>\n",
       "      <td>1</td>\n",
       "      <td>0</td>\n",
       "      <td>1</td>\n",
       "      <td>1</td>\n",
       "    </tr>\n",
       "  </tbody>\n",
       "</table>\n",
       "</div>"
      ],
      "text/plain": [
       "   dont  feel  good  great  is  morning  this  view\n",
       "0     0     1     0      1   0        1     1     0\n",
       "1     1     1     1      0   0        1     1     0\n",
       "2     0     0     0      1   1        0     1     1"
      ]
     },
     "execution_count": 26,
     "metadata": {},
     "output_type": "execute_result"
    }
   ],
   "source": [
    "samples = [\"I feel great this morning\",\n",
    "           \"I dont feel good this morning\",\n",
    "           \"This view is great\"]\n",
    "\n",
    "vectorizer = CountVectorizer()\n",
    "BoW = vectorizer.fit_transform(samples).toarray()\n",
    "\n",
    "print(BoW)\n",
    "\n",
    "# MORE MEANINGFUL\n",
    "pd.DataFrame(BoW, columns=vectorizer.get_feature_names())"
   ]
  },
  {
   "cell_type": "code",
   "execution_count": 29,
   "metadata": {
    "collapsed": false
   },
   "outputs": [
    {
     "data": {
      "text/plain": [
       "-0.6999999999999998"
      ]
     },
     "execution_count": 29,
     "metadata": {},
     "output_type": "execute_result"
    }
   ],
   "source": [
    "# COMPUTE THE SENTIMENT FOR EACH SAMPLE AND GET THE BAG OF WORDS\n",
    "samples = [\"I feel great\",\n",
    "           \"I feel good\",\n",
    "           \"I feel bad\"]\n",
    "\n",
    "# WHAT SHOULD THE SIZE OF THE MATRIX BE ?"
   ]
  },
  {
   "cell_type": "markdown",
   "metadata": {},
   "source": [
    "### Let's Predict Ratings from Amazon reviews\n",
    "\n",
    "![](images/amazonReviews.jpg)"
   ]
  },
  {
   "cell_type": "code",
   "execution_count": 32,
   "metadata": {
    "collapsed": false
   },
   "outputs": [],
   "source": [
    "X, y = ut.load_data(\"datasets/Musical_Instruments_5.json\")"
   ]
  },
  {
   "cell_type": "code",
   "execution_count": 35,
   "metadata": {
    "collapsed": false
   },
   "outputs": [],
   "source": [
    "# WHAT SHOULD WE DO ?\n",
    "\n",
    "# TRAIN Decision Tree ON TRAINING SET\n",
    "\n",
    "# TEST MODEL ON TEST SET\n",
    "\n",
    "# COMPARE DIFFERENT ALGORITHMS"
   ]
  }
 ],
 "metadata": {
  "kernelspec": {
   "display_name": "Python 2",
   "language": "python",
   "name": "python2"
  },
  "language_info": {
   "codemirror_mode": {
    "name": "ipython",
    "version": 2
   },
   "file_extension": ".py",
   "mimetype": "text/x-python",
   "name": "python",
   "nbconvert_exporter": "python",
   "pygments_lexer": "ipython2",
   "version": "2.7.11"
  }
 },
 "nbformat": 4,
 "nbformat_minor": 0
}
