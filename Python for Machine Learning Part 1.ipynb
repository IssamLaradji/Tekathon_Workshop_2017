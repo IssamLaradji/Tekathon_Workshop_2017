{
 "cells": [
  {
   "cell_type": "markdown",
   "metadata": {},
   "source": [
    "![](images/intro.png)"
   ]
  },
  {
   "cell_type": "markdown",
   "metadata": {},
   "source": [
    "### Introduction\n",
    "\n",
    "* What is Python ?\n",
    "\n",
    "* What is Data Science and Machine Learning ?\n",
    "\n",
    "### This workshop is divided into 4 main parts:\n",
    "* Python for Data Science basics\n",
    "* Natural Language Processing and Sentiment Analysis \n",
    "* Web Scraping with Sentiment Analysis \n",
    "* Website and Chat bot integration\n",
    "    \n",
    "### Goals for part 1:\n",
    "* Build a function that computes a mathematical formula\n",
    "* Build a function that visualizes price vs. rating for Amazon product\n",
    "* Build an age group detection classifier"
   ]
  },
  {
   "cell_type": "code",
   "execution_count": 18,
   "metadata": {
    "collapsed": true
   },
   "outputs": [],
   "source": [
    "# IMPORT REQUIRED LIBRARIES\n",
    "import numpy as np\n",
    "import pandas as pd\n",
    "import pylab as plt\n",
    "import json\n",
    "\n",
    "%matplotlib inline  "
   ]
  },
  {
   "cell_type": "code",
   "execution_count": 2,
   "metadata": {
    "collapsed": false
   },
   "outputs": [
    {
     "name": "stdout",
     "output_type": "stream",
     "text": [
      "Hello World\n"
     ]
    }
   ],
   "source": [
    "print(\"Hello World\")"
   ]
  },
  {
   "cell_type": "code",
   "execution_count": 4,
   "metadata": {
    "collapsed": false
   },
   "outputs": [
    {
     "name": "stdout",
     "output_type": "stream",
     "text": [
      "Hello YOUR CODE HERE\n"
     ]
    }
   ],
   "source": [
    "# Modify the function to print your name\n",
    "\n",
    "name = \"YOUR CODE HERE\"\n",
    "print(\"Hello %s\" % name)"
   ]
  },
  {
   "cell_type": "code",
   "execution_count": null,
   "metadata": {
    "collapsed": true
   },
   "outputs": [],
   "source": [
    "# Print a function that returns 2x + 4y + 2z\n",
    "def f(x, y, z):\n",
    "    \"\"\"YOUR CODE HERE\"\"\"\n",
    "    \n",
    "print(\"Value %.3f\" % f(1, 5, 2))"
   ]
  },
  {
   "cell_type": "code",
   "execution_count": null,
   "metadata": {
    "collapsed": true
   },
   "outputs": [],
   "source": [
    "# Print a function that returns 3x + y\n",
    "\"\"\"YOUR CODE HERE\"\"\"\n",
    "    "
   ]
  },
  {
   "cell_type": "markdown",
   "metadata": {},
   "source": [
    "![](images/data_science.jpg)"
   ]
  },
  {
   "cell_type": "code",
   "execution_count": 15,
   "metadata": {
    "collapsed": false
   },
   "outputs": [],
   "source": [
    "# LOAD AMAZON DATA\n",
    "with open('datasets/amazon_reviews.json') as json_data:\n",
    "     data = json.load(json_data)\n",
    "\n",
    "data = pd.DataFrame(data)"
   ]
  },
  {
   "cell_type": "code",
   "execution_count": 16,
   "metadata": {
    "collapsed": false
   },
   "outputs": [
    {
     "data": {
      "text/html": [
       "<div>\n",
       "<table border=\"1\" class=\"dataframe\">\n",
       "  <thead>\n",
       "    <tr style=\"text-align: right;\">\n",
       "      <th></th>\n",
       "      <th>avg rating</th>\n",
       "      <th>n_reviews</th>\n",
       "      <th>name</th>\n",
       "      <th>price</th>\n",
       "      <th>url</th>\n",
       "    </tr>\n",
       "  </thead>\n",
       "  <tbody>\n",
       "    <tr>\n",
       "      <th>0</th>\n",
       "      <td>5.00</td>\n",
       "      <td>1</td>\n",
       "      <td>Fifa 15 PS4</td>\n",
       "      <td>11.0</td>\n",
       "      <td>http://www.amazon.com/dp/B00NM76D5O</td>\n",
       "    </tr>\n",
       "    <tr>\n",
       "      <th>1</th>\n",
       "      <td>4.45</td>\n",
       "      <td>863</td>\n",
       "      <td>FIFA 17 - PlayStation 4</td>\n",
       "      <td>30.0</td>\n",
       "      <td>http://www.amazon.com/dp/B01GKH5Q9G</td>\n",
       "    </tr>\n",
       "    <tr>\n",
       "      <th>2</th>\n",
       "      <td>3.66</td>\n",
       "      <td>704</td>\n",
       "      <td>FIFA 16 - Standard Edition - PlayStation 4</td>\n",
       "      <td>15.0</td>\n",
       "      <td>http://www.amazon.com/dp/B00YC7ECXS</td>\n",
       "    </tr>\n",
       "    <tr>\n",
       "      <th>3</th>\n",
       "      <td>4.32</td>\n",
       "      <td>48</td>\n",
       "      <td>FIFA 17 Deluxe Edition - Xbox One</td>\n",
       "      <td>34.0</td>\n",
       "      <td>http://www.amazon.com/dp/B01GKH5QZ0</td>\n",
       "    </tr>\n",
       "    <tr>\n",
       "      <th>4</th>\n",
       "      <td>2.85</td>\n",
       "      <td>15</td>\n",
       "      <td>FIFA 17 (Xbox One)</td>\n",
       "      <td>28.0</td>\n",
       "      <td>http://www.amazon.com/dp/B01LWNWDXS</td>\n",
       "    </tr>\n",
       "  </tbody>\n",
       "</table>\n",
       "</div>"
      ],
      "text/plain": [
       "   avg rating  n_reviews                                        name  price  \\\n",
       "0        5.00          1                                 Fifa 15 PS4   11.0   \n",
       "1        4.45        863                     FIFA 17 - PlayStation 4   30.0   \n",
       "2        3.66        704  FIFA 16 - Standard Edition - PlayStation 4   15.0   \n",
       "3        4.32         48           FIFA 17 Deluxe Edition - Xbox One   34.0   \n",
       "4        2.85         15                          FIFA 17 (Xbox One)   28.0   \n",
       "\n",
       "                                   url  \n",
       "0  http://www.amazon.com/dp/B00NM76D5O  \n",
       "1  http://www.amazon.com/dp/B01GKH5Q9G  \n",
       "2  http://www.amazon.com/dp/B00YC7ECXS  \n",
       "3  http://www.amazon.com/dp/B01GKH5QZ0  \n",
       "4  http://www.amazon.com/dp/B01LWNWDXS  "
      ]
     },
     "execution_count": 16,
     "metadata": {},
     "output_type": "execute_result"
    }
   ],
   "source": [
    "data.head()"
   ]
  },
  {
   "cell_type": "code",
   "execution_count": 21,
   "metadata": {
    "collapsed": false
   },
   "outputs": [
    {
     "data": {
      "text/plain": [
       "<matplotlib.text.Text at 0x7f06bbeb0210>"
      ]
     },
     "execution_count": 21,
     "metadata": {},
     "output_type": "execute_result"
    },
    {
     "data": {
      "image/png": "[encoded data removed]",
      "text/plain": [
       "<matplotlib.figure.Figure at 0x7f06ba254690>"
      ]
     },
     "metadata": {},
     "output_type": "display_data"
    }
   ],
   "source": [
    "plt.scatter(data[\"avg rating\"], data[\"price\"])\n",
    "plt.xlabel(\"avg rating\")\n",
    "plt.ylabel(\"price\")"
   ]
  },
  {
   "cell_type": "code",
   "execution_count": null,
   "metadata": {
    "collapsed": true
   },
   "outputs": [],
   "source": [
    "# NOW PLOT AVG RATING VS N_REVIEWS"
   ]
  },
  {
   "cell_type": "code",
   "execution_count": 23,
   "metadata": {
    "collapsed": false
   },
   "outputs": [
    {
     "data": {
      "text/html": [
       "<div>\n",
       "<table border=\"1\" class=\"dataframe\">\n",
       "  <thead>\n",
       "    <tr style=\"text-align: right;\">\n",
       "      <th></th>\n",
       "      <th>avg rating</th>\n",
       "      <th>n_reviews</th>\n",
       "      <th>name</th>\n",
       "      <th>price</th>\n",
       "      <th>url</th>\n",
       "    </tr>\n",
       "  </thead>\n",
       "  <tbody>\n",
       "    <tr>\n",
       "      <th>4</th>\n",
       "      <td>2.85</td>\n",
       "      <td>15</td>\n",
       "      <td>FIFA 17 (Xbox One)</td>\n",
       "      <td>28.0</td>\n",
       "      <td>http://www.amazon.com/dp/B01LWNWDXS</td>\n",
       "    </tr>\n",
       "    <tr>\n",
       "      <th>2</th>\n",
       "      <td>3.66</td>\n",
       "      <td>704</td>\n",
       "      <td>FIFA 16 - Standard Edition - PlayStation 4</td>\n",
       "      <td>15.0</td>\n",
       "      <td>http://www.amazon.com/dp/B00YC7ECXS</td>\n",
       "    </tr>\n",
       "    <tr>\n",
       "      <th>6</th>\n",
       "      <td>3.84</td>\n",
       "      <td>14</td>\n",
       "      <td>FIFA 17 - SteelBook Edition - PlayStation 4</td>\n",
       "      <td>54.0</td>\n",
       "      <td>http://www.amazon.com/dp/B01GW8YYJQ</td>\n",
       "    </tr>\n",
       "    <tr>\n",
       "      <th>7</th>\n",
       "      <td>4.22</td>\n",
       "      <td>543</td>\n",
       "      <td>FIFA 14 - Xbox 360</td>\n",
       "      <td>9.0</td>\n",
       "      <td>http://www.amazon.com/dp/B00CD90R4K</td>\n",
       "    </tr>\n",
       "    <tr>\n",
       "      <th>3</th>\n",
       "      <td>4.32</td>\n",
       "      <td>48</td>\n",
       "      <td>FIFA 17 Deluxe Edition - Xbox One</td>\n",
       "      <td>34.0</td>\n",
       "      <td>http://www.amazon.com/dp/B01GKH5QZ0</td>\n",
       "    </tr>\n",
       "  </tbody>\n",
       "</table>\n",
       "</div>"
      ],
      "text/plain": [
       "   avg rating  n_reviews                                         name  price  \\\n",
       "4        2.85         15                           FIFA 17 (Xbox One)   28.0   \n",
       "2        3.66        704   FIFA 16 - Standard Edition - PlayStation 4   15.0   \n",
       "6        3.84         14  FIFA 17 - SteelBook Edition - PlayStation 4   54.0   \n",
       "7        4.22        543                           FIFA 14 - Xbox 360    9.0   \n",
       "3        4.32         48            FIFA 17 Deluxe Edition - Xbox One   34.0   \n",
       "\n",
       "                                   url  \n",
       "4  http://www.amazon.com/dp/B01LWNWDXS  \n",
       "2  http://www.amazon.com/dp/B00YC7ECXS  \n",
       "6  http://www.amazon.com/dp/B01GW8YYJQ  \n",
       "7  http://www.amazon.com/dp/B00CD90R4K  \n",
       "3  http://www.amazon.com/dp/B01GKH5QZ0  "
      ]
     },
     "execution_count": 23,
     "metadata": {},
     "output_type": "execute_result"
    }
   ],
   "source": [
    "# SORT BY RATING\n",
    "data = data.sort_values([\"avg rating\"])\n",
    "data.head()"
   ]
  },
  {
   "cell_type": "code",
   "execution_count": null,
   "metadata": {
    "collapsed": true
   },
   "outputs": [],
   "source": [
    "# NOW SORT BY PRICE \n",
    "\"\"\"YOUR CODE HERE\"\"\"\n",
    "\n",
    "# NOW SORT BY Number of reviews (n_reviews) \n",
    "\"\"\"YOUR CODE HERE\"\"\"\n"
   ]
  },
  {
   "cell_type": "code",
   "execution_count": 32,
   "metadata": {
    "collapsed": false
   },
   "outputs": [],
   "source": [
    "# AGE GROUP PREDICTION\n",
    "from sklearn import tree\n",
    "\n",
    "\n",
    "\n",
    "# [height, weight, shoe_size]\n",
    "X = [[181, 80, 43], [150, 50, 40], [169, 60, 38], [174, 74, 37], [178, 78, 40],\n",
    "     [151, 52, 47], [150, 54, 39], [177, 75, 40], [159, 55, 37], \n",
    "     [161, 62, 42], [181, 85, 43]]\n",
    "\n",
    "y = ['Adult', 'Teenager', 'Adult', 'Adult', 'Adult', 'Teenager', 'Teenager', 'Adult',\n",
    "     'Teenager', 'Teenager', 'Adult']\n",
    "\n",
    "# TURN THEM INTO ARRAYS\n",
    "X = np.array(X)\n",
    "y = np.array(y)\n",
    "\n",
    "unique, labels = np.unique(y, return_inverse=True)"
   ]
  },
  {
   "cell_type": "code",
   "execution_count": 35,
   "metadata": {
    "collapsed": false
   },
   "outputs": [
    {
     "data": {
      "text/plain": [
       "<matplotlib.collections.PathCollection at 0x7f06a95b54d0>"
      ]
     },
     "execution_count": 35,
     "metadata": {},
     "output_type": "execute_result"
    },
    {
     "data": {
      "image/png": "[encoded data removed]",
      "text/plain": [
       "<matplotlib.figure.Figure at 0x7f06a9737590>"
      ]
     },
     "metadata": {},
     "output_type": "display_data"
    },
    {
     "data": {
      "image/png": "[encoded data removed]",
      "text/plain": [
       "<matplotlib.figure.Figure at 0x7f06a9bd6e50>"
      ]
     },
     "metadata": {},
     "output_type": "display_data"
    }
   ],
   "source": [
    "\n",
    "# PLOT RELATIONSHIP BETWEEN HEIGHT AND SHOE SIZE\n",
    "plt.figure()\n",
    "plt.scatter(X[:,0], X[:,1])\n",
    "\n",
    "# PLOT RELATIONSHIP BETWEEN Age Group AND HEIGHT\n",
    "plt.figure()\n",
    "plt.scatter(X[:,0], labels)"
   ]
  },
  {
   "cell_type": "code",
   "execution_count": 43,
   "metadata": {
    "collapsed": false
   },
   "outputs": [
    {
     "name": "stdout",
     "output_type": "stream",
     "text": [
      "['Teenager']\n"
     ]
    }
   ],
   "source": [
    "# WE ARE USING THE DECISION TREE\n",
    "clf = tree.DecisionTreeClassifier()\n",
    "\n",
    "clf = clf.fit(X, y)\n",
    "\n",
    "prediction = clf.predict([[160, 70, 43]])\n",
    "print(prediction)\n",
    "\n",
    "# YOUR TASK IS TO USE A DIFFERENT CLASSIFIER THAN THE DECISION TREE CLASSIFIER"
   ]
  }
 ],
 "metadata": {
  "kernelspec": {
   "display_name": "Python 2",
   "language": "python",
   "name": "python2"
  },
  "language_info": {
   "codemirror_mode": {
    "name": "ipython",
    "version": 2
   },
   "file_extension": ".py",
   "mimetype": "text/x-python",
   "name": "python",
   "nbconvert_exporter": "python",
   "pygments_lexer": "ipython2",
   "version": "2.7.11"
  }
 },
 "nbformat": 4,
 "nbformat_minor": 0
}
